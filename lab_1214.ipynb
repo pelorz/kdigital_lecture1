{
 "cells": [
  {
   "cell_type": "code",
   "execution_count": 5,
   "metadata": {},
   "outputs": [],
   "source": [
    "x = [3, 6, 9, 20, -7, 5]"
   ]
  },
  {
   "cell_type": "code",
   "execution_count": 2,
   "metadata": {},
   "outputs": [
    {
     "data": {
      "text/plain": [
       "[30, 60, 90, 200, -70, 50]"
      ]
     },
     "execution_count": 2,
     "metadata": {},
     "output_type": "execute_result"
    }
   ],
   "source": [
    "for i in range(len(x)):\n",
    "    x[i] = x[i] *10\n",
    "x"
   ]
  },
  {
   "cell_type": "code",
   "execution_count": 9,
   "metadata": {},
   "outputs": [
    {
     "name": "stdout",
     "output_type": "stream",
     "text": [
      "3\n",
      "6\n",
      "9\n",
      "20\n",
      "-7\n",
      "5\n"
     ]
    },
    {
     "data": {
      "text/plain": [
       "[3, 6, 9, 20, -7, 5]"
      ]
     },
     "execution_count": 9,
     "metadata": {},
     "output_type": "execute_result"
    }
   ],
   "source": [
    "for i in x:\n",
    "    print(i)\n",
    "    i = i * 10\n",
    "x"
   ]
  },
  {
   "cell_type": "code",
   "execution_count": 10,
   "metadata": {},
   "outputs": [],
   "source": [
    "y = [[3, 6], 9, 20, -7, 5]"
   ]
  },
  {
   "cell_type": "code",
   "execution_count": 12,
   "metadata": {},
   "outputs": [
    {
     "data": {
      "text/plain": [
       "[[3, 6], 9, 20, -7, 5]"
      ]
     },
     "execution_count": 12,
     "metadata": {},
     "output_type": "execute_result"
    }
   ],
   "source": [
    "for i, elem in enumerate(y):\n",
    "    if i == 0:\n",
    "        elem = 7\n",
    "y"
   ]
  },
  {
   "cell_type": "code",
   "execution_count": 19,
   "metadata": {},
   "outputs": [
    {
     "data": {
      "text/plain": [
       "[2,\n",
       " 4,\n",
       " 6,\n",
       " 8,\n",
       " 3,\n",
       " 6,\n",
       " 9,\n",
       " 12,\n",
       " 4,\n",
       " 8,\n",
       " 12,\n",
       " 16,\n",
       " 5,\n",
       " 10,\n",
       " 15,\n",
       " 20,\n",
       " 6,\n",
       " 12,\n",
       " 18,\n",
       " 24,\n",
       " 7,\n",
       " 14,\n",
       " 21,\n",
       " 28,\n",
       " 8,\n",
       " 16,\n",
       " 24,\n",
       " 32,\n",
       " 9,\n",
       " 18,\n",
       " 27,\n",
       " 36]"
      ]
     },
     "execution_count": 19,
     "metadata": {},
     "output_type": "execute_result"
    }
   ],
   "source": [
    "c = []\n",
    "for i in range(2, 10):\n",
    "    for j in range(1, 5):\n",
    "        c.append(i * j)\n",
    "c"
   ]
  },
  {
   "cell_type": "code",
   "execution_count": 18,
   "metadata": {},
   "outputs": [
    {
     "data": {
      "text/plain": [
       "[2,\n",
       " 4,\n",
       " 6,\n",
       " 8,\n",
       " 3,\n",
       " 6,\n",
       " 9,\n",
       " 12,\n",
       " 4,\n",
       " 8,\n",
       " 12,\n",
       " 16,\n",
       " 5,\n",
       " 10,\n",
       " 15,\n",
       " 20,\n",
       " 6,\n",
       " 12,\n",
       " 18,\n",
       " 24,\n",
       " 7,\n",
       " 14,\n",
       " 21,\n",
       " 28,\n",
       " 8,\n",
       " 16,\n",
       " 24,\n",
       " 32,\n",
       " 9,\n",
       " 18,\n",
       " 27,\n",
       " 36]"
      ]
     },
     "execution_count": 18,
     "metadata": {},
     "output_type": "execute_result"
    }
   ],
   "source": [
    "c = [ i*j for i in range(2, 10) for j in range(1, 5)]\n",
    "c"
   ]
  },
  {
   "cell_type": "code",
   "execution_count": 20,
   "metadata": {},
   "outputs": [],
   "source": [
    "list1 = [10,20,30,40,50]"
   ]
  },
  {
   "cell_type": "code",
   "execution_count": 26,
   "metadata": {},
   "outputs": [
    {
     "name": "stdout",
     "output_type": "stream",
     "text": [
      "50\n",
      "40\n",
      "30\n"
     ]
    }
   ],
   "source": [
    "for i in range(len(list1), 1, -1):\n",
    "    print(list1[i])"
   ]
  },
  {
   "cell_type": "code",
   "execution_count": 24,
   "metadata": {},
   "outputs": [
    {
     "data": {
      "text/plain": [
       "[]"
      ]
     },
     "execution_count": 24,
     "metadata": {},
     "output_type": "execute_result"
    }
   ],
   "source": [
    "list(range(-1, 0, -1))"
   ]
  },
  {
   "cell_type": "code",
   "execution_count": 40,
   "metadata": {},
   "outputs": [
    {
     "name": "stdout",
     "output_type": "stream",
     "text": [
      "120\n"
     ]
    }
   ],
   "source": [
    "def calc(operator, *nums):\n",
    "    sum = 0\n",
    "    for num in nums:\n",
    "        if operator ==\"+\":\n",
    "            sum += num\n",
    "        elif operator ==\"*\":\n",
    "            if sum == 0:\n",
    "                sum = 1\n",
    "            sum *= num\n",
    "    return sum\n",
    "\n",
    "sum = calc(\"*\",1,2,3,4,5)\n",
    "print(sum)\n"
   ]
  },
  {
   "cell_type": "code",
   "execution_count": 37,
   "metadata": {},
   "outputs": [
    {
     "name": "stdout",
     "output_type": "stream",
     "text": [
      "30\n",
      "-10\n",
      "200\n",
      "0 으로 나눌 수 없어요\n",
      "0\n"
     ]
    }
   ],
   "source": [
    "def calc(operator, num1, num2):\n",
    "    ret = 0\n",
    "    if operator == \"+\":\n",
    "        ret = num1 + num2\n",
    "    \n",
    "    elif operator == \"-\":\n",
    "        ret = num1 - num2\n",
    "        \n",
    "    elif operator == \"*\":\n",
    "        ret = num1 * num2\n",
    "        \n",
    "    elif operator == \"/\":\n",
    "        if num2 != 0:\n",
    "            ret = num1 / num2\n",
    "        else:\n",
    "            print(\"0 으로 나눌 수 없어요\")\n",
    "    return ret\n",
    "\n",
    "result = calc(\"+\", 10, 20)\n",
    "print(result)\n",
    "result = calc(\"-\", 10, 20)\n",
    "print(result)\n",
    "result = calc(\"*\", 10, 20)\n",
    "print(result)\n",
    "result = calc(\"/\", 10, 0)\n",
    "print(result)"
   ]
  },
  {
   "cell_type": "code",
   "execution_count": 42,
   "metadata": {},
   "outputs": [
    {
     "name": "stdout",
     "output_type": "stream",
     "text": [
      "15\n"
     ]
    }
   ],
   "source": [
    "def f_sum(n) :\n",
    "    if n == 0 : \n",
    "        return 0\n",
    "    \n",
    "    return n + f_sum(n-1)\n",
    "\n",
    "sum = f_sum(5)\n",
    "print(sum)"
   ]
  },
  {
   "cell_type": "code",
   "execution_count": null,
   "metadata": {},
   "outputs": [],
   "source": [
    "def f_number(n):\n",
    "    if n == 0:\n",
    "        return\n",
    "    \n",
    "    f_number(int(n/10))\n",
    "    print(n%10)\n",
    "\n",
    "f_number(1234)"
   ]
  },
  {
   "cell_type": "code",
   "execution_count": 45,
   "metadata": {},
   "outputs": [
    {
     "data": {
      "text/plain": [
       "4"
      ]
     },
     "execution_count": 45,
     "metadata": {},
     "output_type": "execute_result"
    }
   ],
   "source": [
    "1234%10"
   ]
  },
  {
   "cell_type": "code",
   "execution_count": 50,
   "metadata": {},
   "outputs": [
    {
     "data": {
      "text/plain": [
       "123"
      ]
     },
     "execution_count": 50,
     "metadata": {},
     "output_type": "execute_result"
    }
   ],
   "source": [
    "int(1234/10)"
   ]
  },
  {
   "cell_type": "code",
   "execution_count": 46,
   "metadata": {},
   "outputs": [
    {
     "data": {
      "text/plain": [
       "3"
      ]
     },
     "execution_count": 46,
     "metadata": {},
     "output_type": "execute_result"
    }
   ],
   "source": [
    "123%10"
   ]
  },
  {
   "cell_type": "code",
   "execution_count": 47,
   "metadata": {},
   "outputs": [
    {
     "data": {
      "text/plain": [
       "2"
      ]
     },
     "execution_count": 47,
     "metadata": {},
     "output_type": "execute_result"
    }
   ],
   "source": [
    "12%10"
   ]
  },
  {
   "cell_type": "code",
   "execution_count": 48,
   "metadata": {},
   "outputs": [
    {
     "data": {
      "text/plain": [
       "1"
      ]
     },
     "execution_count": 48,
     "metadata": {},
     "output_type": "execute_result"
    }
   ],
   "source": [
    "1%10"
   ]
  },
  {
   "cell_type": "code",
   "execution_count": 51,
   "metadata": {},
   "outputs": [
    {
     "data": {
      "text/plain": [
       "0"
      ]
     },
     "execution_count": 51,
     "metadata": {},
     "output_type": "execute_result"
    }
   ],
   "source": [
    "int(1/10)"
   ]
  },
  {
   "cell_type": "code",
   "execution_count": null,
   "metadata": {},
   "outputs": [],
   "source": []
  }
 ],
 "metadata": {
  "kernelspec": {
   "display_name": "Python 3",
   "language": "python",
   "name": "python3"
  },
  "language_info": {
   "codemirror_mode": {
    "name": "ipython",
    "version": 3
   },
   "file_extension": ".py",
   "mimetype": "text/x-python",
   "name": "python",
   "nbconvert_exporter": "python",
   "pygments_lexer": "ipython3",
   "version": "3.8.5"
  }
 },
 "nbformat": 4,
 "nbformat_minor": 4
}
